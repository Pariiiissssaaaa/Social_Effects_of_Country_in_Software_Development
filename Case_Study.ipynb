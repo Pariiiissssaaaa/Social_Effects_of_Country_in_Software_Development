{
 "cells": [
  {
   "cell_type": "code",
   "execution_count": 61,
   "metadata": {},
   "outputs": [],
   "source": [
    "from library import *\n",
    "from constant import *"
   ]
  },
  {
   "cell_type": "code",
   "execution_count": 6,
   "metadata": {},
   "outputs": [],
   "source": [
    "repo_pd=pd.read_pickle('repo_case_study.pickle')\n",
    "event_pd=pd.read_pickle('events_case_study.pickle')"
   ]
  },
  {
   "cell_type": "code",
   "execution_count": 7,
   "metadata": {},
   "outputs": [
    {
     "data": {
      "text/plain": [
       "(271399, 45)"
      ]
     },
     "execution_count": 7,
     "metadata": {},
     "output_type": "execute_result"
    }
   ],
   "source": [
    "len(event_pd), len(repo_pd)"
   ]
  },
  {
   "cell_type": "code",
   "execution_count": 8,
   "metadata": {},
   "outputs": [
    {
     "data": {
      "text/plain": [
       "<AxesSubplot:>"
      ]
     },
     "execution_count": 8,
     "metadata": {},
     "output_type": "execute_result"
    },
    {
     "data": {
      "image/png": "[encoded data removed]",
      "text/plain": [
       "<Figure size 432x288 with 1 Axes>"
      ]
     },
     "metadata": {
      "needs_background": "light"
     },
     "output_type": "display_data"
    }
   ],
   "source": [
    "#event distribution\n",
    "event_pd['event_type'].value_counts().plot(kind='bar')"
   ]
  },
  {
   "cell_type": "markdown",
   "metadata": {},
   "source": [
    "### Feature Extraction"
   ]
  },
  {
   "cell_type": "code",
   "execution_count": 9,
   "metadata": {},
   "outputs": [],
   "source": [
    "#repo created after 2017 (to get all its events)\n",
    "repo_ids=set()\n",
    "for row in repo_pd.iterrows():\n",
    "    if row[1]['created_at'].split('-')[0] in {'2017', '2018', '2019', '2020'}:\n",
    "        repo_ids.add(row[1]['repo_id'])"
   ]
  },
  {
   "cell_type": "code",
   "execution_count": 10,
   "metadata": {},
   "outputs": [
    {
     "data": {
      "text/plain": [
       "41"
      ]
     },
     "execution_count": 10,
     "metadata": {},
     "output_type": "execute_result"
    }
   ],
   "source": [
    "len(repo_ids)#41 repos created after 2017"
   ]
  },
  {
   "cell_type": "code",
   "execution_count": 11,
   "metadata": {},
   "outputs": [],
   "source": [
    "frequent_repo=event_pd[event_pd.repo_id.isin(repo_ids)].repo_id.value_counts().head(30).to_dict()"
   ]
  },
  {
   "cell_type": "code",
   "execution_count": 12,
   "metadata": {},
   "outputs": [
    {
     "data": {
      "text/plain": [
       "30"
      ]
     },
     "execution_count": 12,
     "metadata": {},
     "output_type": "execute_result"
    }
   ],
   "source": [
    "len(frequent_repo)"
   ]
  },
  {
   "cell_type": "code",
   "execution_count": 13,
   "metadata": {},
   "outputs": [],
   "source": [
    "#filter events created after 2017 + at least 500 events\n",
    "event_pd=event_pd[event_pd.repo_id.isin(frequent_repo)]"
   ]
  },
  {
   "cell_type": "code",
   "execution_count": 14,
   "metadata": {},
   "outputs": [
    {
     "data": {
      "text/plain": [
       "235446"
      ]
     },
     "execution_count": 14,
     "metadata": {},
     "output_type": "execute_result"
    }
   ],
   "source": [
    "len(event_pd)# 30 repos --> 235,446 events"
   ]
  },
  {
   "cell_type": "code",
   "execution_count": 15,
   "metadata": {},
   "outputs": [],
   "source": [
    "X=event_pd[event_pd.event_type!='WatchEvent'][['repo_id', 'event_type']].groupby('repo_id')['event_type'].apply(list)\n",
    "repo_events=pd.DataFrame({'repo_id':X.index, 'events':X.values})\n",
    "\n",
    "X=event_pd[event_pd.event_type=='WatchEvent'][['repo_id', 'actor_id']].groupby('repo_id')['actor_id'].apply(list)\n",
    "repo_watcher=pd.DataFrame({'repo_id':X.index, 'actor_id':X.values})\n",
    "\n",
    "X=event_pd[event_pd.event_type!='WatchEvent'][['repo_id', 'actor_id']].groupby('repo_id')['actor_id'].apply(list)\n",
    "repo_contributor=pd.DataFrame({'repo_id':X.index, 'actor_id':X.values})\n"
   ]
  },
  {
   "cell_type": "code",
   "execution_count": 16,
   "metadata": {},
   "outputs": [
    {
     "data": {
      "text/plain": [
       "(30, 30, 235446, 30)"
      ]
     },
     "execution_count": 16,
     "metadata": {},
     "output_type": "execute_result"
    }
   ],
   "source": [
    "len(repo_contributor), len(repo_watcher), len(event_pd), len(repo_events)"
   ]
  },
  {
   "cell_type": "markdown",
   "metadata": {},
   "source": [
    "#### percentage of events\n"
   ]
  },
  {
   "cell_type": "code",
   "execution_count": 17,
   "metadata": {},
   "outputs": [
    {
     "name": "stderr",
     "output_type": "stream",
     "text": [
      "30it [00:00, 977.86it/s]\n"
     ]
    }
   ],
   "source": [
    "repo_events_features=defaultdict()\n",
    "\n",
    "for row in tqdm(repo_events.iterrows()):\n",
    "    events_percentage={'PushEvent':0, 'ForkEvent':0, 'IssueCommentEvent':0, 'IssuesEvent':0, 'PullRequestEvent':0, 'CreateEvent':0,\n",
    "  'PullRequestReviewCommentEvent':0, 'DeleteEvent':0, 'GollumEvent':0, 'MemberEvent':0, 'ReleaseEvent':0,\n",
    "   'CommitCommentEvent':0, 'PublicEvent':0}\n",
    "\n",
    "    a=dict(Counter(row[1]['events']))\n",
    "    #normalization\n",
    "    a = {k: v / len(row[1]['events']) for k, v in a.items()}\n",
    "    for event in a:\n",
    "        events_percentage[event]=a[event]\n",
    "    repo_events_features[row[1]['repo_id']]=events_percentage"
   ]
  },
  {
   "cell_type": "markdown",
   "metadata": {},
   "source": [
    "#### Jaccard "
   ]
  },
  {
   "cell_type": "code",
   "execution_count": 18,
   "metadata": {},
   "outputs": [],
   "source": [
    "#jaccard similarity between contributors and watchers\n",
    "#merge repo_watcher and repo_contributor\n",
    "repo_watcher_contributor=repo_contributor.merge(repo_watcher[['repo_id', 'actor_id']], left_on='repo_id', right_on='repo_id', how='left')\n",
    "#rename columns\n",
    "repo_watcher_contributor.rename(columns={'repo_id': 'repo_id', 'actor_id_x': 'contributor_id', 'actor_id_y':'watcher_id'}, inplace=True)\n"
   ]
  },
  {
   "cell_type": "code",
   "execution_count": 19,
   "metadata": {},
   "outputs": [],
   "source": [
    "repo_watcher_contributor=repo_watcher_contributor[['repo_id', 'contributor_id', 'watcher_id']]\n",
    "\n",
    "#replace nan with []\n",
    "repo_watcher_contributor.loc[repo_watcher_contributor['watcher_id'].isnull(),['watcher_id']] = repo_watcher_contributor.loc[repo_watcher_contributor['watcher_id'].isnull(),'watcher_id'].apply(lambda watcher_id: [])\n",
    "\n",
    "#calculate jaccard feature\n",
    "repo_watcher_contributor['jaccard'] = repo_watcher_contributor.apply(lambda row: len(set(row.contributor_id).intersection(set(row.watcher_id)))/len(set(row.contributor_id).union(set(row.watcher_id))) , axis=1)\n"
   ]
  },
  {
   "cell_type": "markdown",
   "metadata": {},
   "source": [
    "#### length of comments"
   ]
  },
  {
   "cell_type": "code",
   "execution_count": 20,
   "metadata": {},
   "outputs": [],
   "source": [
    "commit_history=pd.read_pickle('commit_history_case_study.pickle')"
   ]
  },
  {
   "cell_type": "code",
   "execution_count": 21,
   "metadata": {},
   "outputs": [],
   "source": [
    "X=commit_history[['repo_id', 'comment']].groupby('repo_id')['comment'].apply(list)\n",
    "repo_commits=pd.DataFrame({'repo_id':X.index, 'comment':X.values})"
   ]
  },
  {
   "cell_type": "code",
   "execution_count": 22,
   "metadata": {},
   "outputs": [],
   "source": [
    "med_comment_len=defaultdict()\n",
    "mean_comment_len=defaultdict()\n",
    "\n",
    "for row in repo_commits.iterrows():\n",
    "    tmp=[]\n",
    "    for comment in row[1]['comment']:\n",
    "        try:\n",
    "            tmp.append(len(comment.split()))\n",
    "        except:\n",
    "            tmp.append(0)\n",
    "            \n",
    "    med_comment_len[row[1]['repo_id']]=np.median(tmp)\n",
    "    mean_comment_len[row[1]['repo_id']]=mean(tmp)\n",
    "\n",
    "    "
   ]
  },
  {
   "cell_type": "markdown",
   "metadata": {},
   "source": [
    "#### num leaders"
   ]
  },
  {
   "cell_type": "code",
   "execution_count": 23,
   "metadata": {},
   "outputs": [],
   "source": [
    "#Distribution of number of unique users with pull request and push events (or non-watcher users)\n",
    "repo_leaders=event_pd[(event_pd.event_type=='PushEvent') | (event_pd.event_type=='PullRequestEvent')][['repo_id', 'actor_id']].groupby('repo_id')['actor_id'].apply(list)\n",
    "repo_leaders=pd.DataFrame({'repo_id':repo_leaders.index, 'actor_ids':repo_leaders.values})\n",
    "repo_leaders['num_leaders'] = repo_leaders.apply(lambda row: len(set(row.actor_ids)), axis=1)\n",
    "repo_leaders=repo_leaders.drop(['actor_ids'], axis=1)\n"
   ]
  },
  {
   "cell_type": "markdown",
   "metadata": {},
   "source": [
    "## Sequence Learning"
   ]
  },
  {
   "cell_type": "code",
   "execution_count": 24,
   "metadata": {},
   "outputs": [],
   "source": [
    "#convert \"%Y-%m-%d-%H\" to unix\n",
    "event_pd['time_stamp'] = event_pd.apply(lambda row: datetime.strptime(row.file_date, \"%Y-%m-%d-%H\").timestamp(), axis=1)"
   ]
  },
  {
   "cell_type": "code",
   "execution_count": 25,
   "metadata": {},
   "outputs": [],
   "source": [
    "#index as col\n",
    "event_pd['index1'] = event_pd.index"
   ]
  },
  {
   "cell_type": "code",
   "execution_count": 26,
   "metadata": {},
   "outputs": [],
   "source": [
    "#sort row by time_stamp and index (to keep the order of events occured within same hour)\n",
    "event_pd=event_pd.sort_values(by=['time_stamp', 'index1'])"
   ]
  },
  {
   "cell_type": "code",
   "execution_count": 27,
   "metadata": {},
   "outputs": [
    {
     "data": {
      "text/plain": [
       "235446"
      ]
     },
     "execution_count": 27,
     "metadata": {},
     "output_type": "execute_result"
    }
   ],
   "source": [
    "len(event_pd)"
   ]
  },
  {
   "cell_type": "code",
   "execution_count": 28,
   "metadata": {},
   "outputs": [],
   "source": [
    "event_pd_w_o_watch=event_pd[event_pd.event_type!='WatchEvent']#without watch for case-study"
   ]
  },
  {
   "cell_type": "code",
   "execution_count": 29,
   "metadata": {},
   "outputs": [
    {
     "data": {
      "text/plain": [
       "124780"
      ]
     },
     "execution_count": 29,
     "metadata": {},
     "output_type": "execute_result"
    }
   ],
   "source": [
    "len(event_pd_w_o_watch)"
   ]
  },
  {
   "cell_type": "code",
   "execution_count": 24,
   "metadata": {},
   "outputs": [],
   "source": [
    "#event_pd.to_pickle('event_time_case_study.pickle')"
   ]
  },
  {
   "cell_type": "code",
   "execution_count": 25,
   "metadata": {},
   "outputs": [],
   "source": [
    "#event_pd_w_o_watch.to_pickle('event_time_w_o_watch_case_study.pickle')"
   ]
  },
  {
   "cell_type": "code",
   "execution_count": 30,
   "metadata": {},
   "outputs": [],
   "source": [
    "#group by repo-id\n",
    "event_sequence=event_pd[['repo_id', 'event_type']].groupby('repo_id')['event_type'].apply(list)\n",
    "event_sequence=pd.DataFrame({'repo_id':event_sequence.index, 'event_type':event_sequence.values})\n",
    "#group by repo-id\n",
    "time_sequence=event_pd[['repo_id', 'time_stamp']].groupby('repo_id')['time_stamp'].apply(list)\n",
    "time_sequence=pd.DataFrame({'repo_id':time_sequence.index, 'time_stamp':time_sequence.values})"
   ]
  },
  {
   "cell_type": "markdown",
   "metadata": {},
   "source": [
    "### IAT (inter arrival time)"
   ]
  },
  {
   "cell_type": "code",
   "execution_count": 31,
   "metadata": {},
   "outputs": [],
   "source": [
    "repo_iat_mean, repo_iat_med={}, {} #with watch/ first 500 events \n",
    "for row in time_sequence.iterrows():\n",
    "    time_stamps=row[1]['time_stamp']\n",
    "    l=len(time_stamps)\n",
    "    if l>500:\n",
    "        time_stamps=time_stamps[:500]\n",
    "        \n",
    "    tmp=[]\n",
    "    for i in range(1, len(time_stamps)):\n",
    "        tmp.append((time_stamps[i]-time_stamps[i-1])/86400.0)#in day/in hour\n",
    "    repo_iat_mean[row[1]['repo_id']]=mean(tmp)\n",
    "    repo_iat_med[row[1]['repo_id']]=np.median(tmp)\n",
    "        \n",
    "        \n",
    "        "
   ]
  },
  {
   "cell_type": "code",
   "execution_count": 32,
   "metadata": {},
   "outputs": [
    {
     "data": {
      "text/plain": [
       "microsoft                    5\n",
       "facebookresearch             5\n",
       "google-research              5\n",
       "NVIDIA                       5\n",
       "Tencent                      4\n",
       "baidu                        2\n",
       "softbankrobotics-research    1\n",
       "sony                         1\n",
       "alibaba                      1\n",
       "PaddlePaddle                 1\n",
       "Name: owner_login, dtype: int64"
      ]
     },
     "execution_count": 32,
     "metadata": {},
     "output_type": "execute_result"
    }
   ],
   "source": [
    "repo_pd[repo_pd.repo_id.isin(frequent_repo)].owner_login.value_counts()"
   ]
  },
  {
   "cell_type": "code",
   "execution_count": 33,
   "metadata": {},
   "outputs": [
    {
     "data": {
      "text/plain": [
       "Index(['event_id', 'event_type', 'repo_id', 'repo_name', 'actor_id',\n",
       "       'file_date', 'time_stamp', 'index1'],\n",
       "      dtype='object')"
      ]
     },
     "execution_count": 33,
     "metadata": {},
     "output_type": "execute_result"
    }
   ],
   "source": [
    "event_pd.columns"
   ]
  },
  {
   "cell_type": "markdown",
   "metadata": {},
   "source": [
    "#### merge features into repo_features"
   ]
  },
  {
   "cell_type": "code",
   "execution_count": 34,
   "metadata": {},
   "outputs": [],
   "source": [
    "#put all the features along with repo_id in one dataframe"
   ]
  },
  {
   "cell_type": "code",
   "execution_count": 35,
   "metadata": {},
   "outputs": [],
   "source": [
    "repo_features=pd.DataFrame.from_dict(repo_events_features, orient='index')"
   ]
  },
  {
   "cell_type": "code",
   "execution_count": 36,
   "metadata": {},
   "outputs": [],
   "source": [
    "repo_features['repo_id']=repo_features.index"
   ]
  },
  {
   "cell_type": "code",
   "execution_count": 37,
   "metadata": {},
   "outputs": [],
   "source": [
    "repo_count_features=repo_pd[['repo_id', 'star_count', 'forks_count', 'open_issues_count']]"
   ]
  },
  {
   "cell_type": "code",
   "execution_count": 38,
   "metadata": {},
   "outputs": [],
   "source": [
    "#merge repo_features and repo_count_features\n",
    "repo_features=repo_features.merge(repo_count_features[['repo_id', 'star_count', 'forks_count', 'open_issues_count']], left_on='repo_id', right_on='repo_id', how='left')"
   ]
  },
  {
   "cell_type": "code",
   "execution_count": 39,
   "metadata": {},
   "outputs": [],
   "source": [
    "#merge repo_features and jaccard\n",
    "repo_features=repo_features.merge(repo_watcher_contributor[['repo_id', 'jaccard']], left_on='repo_id', right_on='repo_id', how='left')\n"
   ]
  },
  {
   "cell_type": "code",
   "execution_count": 40,
   "metadata": {},
   "outputs": [],
   "source": [
    "#merge repo_features and comment len (average)\n",
    "CommentLen=[]\n",
    "for row in repo_features.iterrows():\n",
    "    CommentLen.append(mean_comment_len[(int(row[1]['repo_id']))])    "
   ]
  },
  {
   "cell_type": "code",
   "execution_count": 41,
   "metadata": {},
   "outputs": [],
   "source": [
    "repo_features['CommentLen']=CommentLen"
   ]
  },
  {
   "cell_type": "code",
   "execution_count": 42,
   "metadata": {},
   "outputs": [],
   "source": [
    "#merge repo_features and iat (median)\n",
    "iat=[]\n",
    "for row in repo_features.iterrows():\n",
    "    iat.append(repo_iat_med[row[1]['repo_id']])"
   ]
  },
  {
   "cell_type": "code",
   "execution_count": 43,
   "metadata": {},
   "outputs": [],
   "source": [
    "repo_features['iat']=iat"
   ]
  },
  {
   "cell_type": "code",
   "execution_count": 44,
   "metadata": {},
   "outputs": [],
   "source": [
    "#merge repo_features and repo_leader\n",
    "repo_features=repo_features.merge(repo_leaders[['repo_id', 'num_leaders']], left_on='repo_id', right_on='repo_id', how='left')\n"
   ]
  },
  {
   "cell_type": "code",
   "execution_count": 45,
   "metadata": {},
   "outputs": [],
   "source": [
    "#fill nan for num_leaders with zeros\n",
    "repo_features['num_leaders'] = repo_features['num_leaders'].fillna(0)"
   ]
  },
  {
   "cell_type": "code",
   "execution_count": 46,
   "metadata": {},
   "outputs": [],
   "source": [
    "repo_sequence=pd.read_pickle('latent_vectors_case_study.pickle')#w/o watch"
   ]
  },
  {
   "cell_type": "code",
   "execution_count": 47,
   "metadata": {},
   "outputs": [],
   "source": [
    "repo_features=repo_features.merge(repo_sequence, left_on='repo_id', right_on='repo_id', how='left')"
   ]
  },
  {
   "cell_type": "code",
   "execution_count": null,
   "metadata": {},
   "outputs": [],
   "source": [
    "# repo_features=repo_features.drop([0,1,2,3,4,5,6,7,8,9,10,11,12,13,14,15,16,17,18,19,20,21,22,23,24,25,26,27,28,29,30,\n",
    "#                   31,32,33,34,35,36,37,38,39], axis = 1)"
   ]
  },
  {
   "cell_type": "code",
   "execution_count": 51,
   "metadata": {},
   "outputs": [
    {
     "data": {
      "text/plain": [
       "(30, 65)"
      ]
     },
     "execution_count": 51,
     "metadata": {},
     "output_type": "execute_result"
    }
   ],
   "source": [
    "repo_features.shape"
   ]
  },
  {
   "cell_type": "markdown",
   "metadata": {},
   "source": [
    "#### normalization of 'star_count', 'forks_count', 'open_issues_count', 'CommentLen', 'num_leaders'"
   ]
  },
  {
   "cell_type": "code",
   "execution_count": 49,
   "metadata": {},
   "outputs": [],
   "source": [
    "repo_features['star_count_normal']=np.log(repo_features['star_count']+1)\n",
    "repo_features['forks_count_normal']=np.log(repo_features['forks_count']+1)\n",
    "repo_features['open_issues_count_normal']=np.log(repo_features['open_issues_count']+1)\n",
    "repo_features['num_leaders_normal']=np.log(repo_features['num_leaders']+1)"
   ]
  },
  {
   "cell_type": "markdown",
   "metadata": {},
   "source": [
    "### KNN"
   ]
  },
  {
   "cell_type": "code",
   "execution_count": 52,
   "metadata": {},
   "outputs": [],
   "source": [
    "#repo_pd[['repo_id', 'owner_login']].drop_duplicates #label --> owner_login\n",
    "repo_features=repo_features.merge(repo_pd[['repo_id', 'owner_login', 'repo_name']], left_on='repo_id', right_on='repo_id', how='left')\n"
   ]
  },
  {
   "cell_type": "code",
   "execution_count": 53,
   "metadata": {},
   "outputs": [
    {
     "data": {
      "text/plain": [
       "(30, 67)"
      ]
     },
     "execution_count": 53,
     "metadata": {},
     "output_type": "execute_result"
    }
   ],
   "source": [
    "repo_features.shape"
   ]
  },
  {
   "cell_type": "code",
   "execution_count": 54,
   "metadata": {},
   "outputs": [],
   "source": [
    "#map paddlepaddle to baidu\n",
    "repo_features['owner_login'].replace({'PaddlePaddle': 'baidu'}, inplace=True)\n"
   ]
  },
  {
   "cell_type": "code",
   "execution_count": 55,
   "metadata": {},
   "outputs": [],
   "source": [
    "X_emb=list(range(40))\n",
    "X_profile=['forks_count_normal','star_count_normal','open_issues_count_normal','num_leaders_normal','CommentLen','jaccard','iat']\n",
    "X_act=['PushEvent','ForkEvent','IssueCommentEvent','IssuesEvent','PullRequestEvent','CreateEvent',\n",
    "       'PullRequestReviewCommentEvent','DeleteEvent','GollumEvent','MemberEvent','ReleaseEvent','CommitCommentEvent',\n",
    "       'PublicEvent']\n"
   ]
  },
  {
   "cell_type": "code",
   "execution_count": 56,
   "metadata": {},
   "outputs": [],
   "source": [
    "repo_features=repo_features[repo_features.owner_login.isin({'microsoft', 'facebookresearch', 'NVIDIA', 'google-research', 'Tencent', 'baidu'})]"
   ]
  },
  {
   "cell_type": "code",
   "execution_count": 57,
   "metadata": {},
   "outputs": [
    {
     "data": {
      "text/plain": [
       "microsoft           5\n",
       "facebookresearch    5\n",
       "google-research     5\n",
       "NVIDIA              5\n",
       "Tencent             4\n",
       "baidu               3\n",
       "Name: owner_login, dtype: int64"
      ]
     },
     "execution_count": 57,
     "metadata": {},
     "output_type": "execute_result"
    }
   ],
   "source": [
    "repo_features.owner_login.value_counts()"
   ]
  },
  {
   "cell_type": "markdown",
   "metadata": {},
   "source": [
    "#### Predicting labels"
   ]
  },
  {
   "cell_type": "code",
   "execution_count": 106,
   "metadata": {},
   "outputs": [
    {
     "name": "stdout",
     "output_type": "stream",
     "text": [
      "Actual Label:    facebookresearch\n",
      "Project Name:    ParlAI\n",
      "Predicted Label: facebookresearch\n",
      "\n",
      "Actual Label:    facebookresearch\n",
      "Project Name:    ReAgent\n",
      "Predicted Label: facebookresearch\n",
      "\n",
      "Actual Label:    microsoft\n",
      "Project Name:    MMdnn\n",
      "Predicted Label: facebookresearch\n",
      "\n",
      "Actual Label:    NVIDIA\n",
      "Project Name:    pix2pixHD\n",
      "Predicted Label: microsoft\n",
      "\n",
      "Actual Label:    NVIDIA\n",
      "Project Name:    FastPhotoStyle\n",
      "Predicted Label: Tencent\n",
      "\n",
      "Actual Label:    NVIDIA\n",
      "Project Name:    apex\n",
      "Predicted Label: NVIDIA\n",
      "\n",
      "Actual Label:    microsoft\n",
      "Project Name:    nni\n",
      "Predicted Label: facebookresearch\n",
      "\n",
      "Actual Label:    baidu\n",
      "Project Name:    Senta\n",
      "Predicted Label: Tencent\n",
      "\n",
      "Actual Label:    facebookresearch\n",
      "Project Name:    pytext\n",
      "Predicted Label: facebookresearch\n",
      "\n",
      "Actual Label:    microsoft\n",
      "Project Name:    human-pose-estimation.pytorch\n",
      "Predicted Label: NVIDIA\n",
      "\n",
      "Actual Label:    baidu\n",
      "Project Name:    Dialogue\n",
      "Predicted Label: baidu\n",
      "\n",
      "Actual Label:    Tencent\n",
      "Project Name:    Metis\n",
      "Predicted Label: NVIDIA\n",
      "\n",
      "Actual Label:    google-research\n",
      "Project Name:    bert\n",
      "Predicted Label: NVIDIA\n",
      "\n",
      "Actual Label:    NVIDIA\n",
      "Project Name:    waveglow\n",
      "Predicted Label: NVIDIA\n",
      "\n",
      "Actual Label:    Tencent\n",
      "Project Name:    FaceDetection-DSFD\n",
      "Predicted Label: NVIDIA\n",
      "\n",
      "Actual Label:    Tencent\n",
      "Project Name:    ObjectDetection-OneStageDet\n",
      "Predicted Label: Tencent\n",
      "\n",
      "Actual Label:    baidu\n",
      "Project Name:    PaddleHub\n",
      "Predicted Label: NVIDIA\n",
      "\n",
      "Actual Label:    facebookresearch\n",
      "Project Name:    pyrobot\n",
      "Predicted Label: baidu\n",
      "\n",
      "Actual Label:    google-research\n",
      "Project Name:    tensor2robot\n",
      "Predicted Label: google-research\n",
      "\n",
      "Actual Label:    google-research\n",
      "Project Name:    uda\n",
      "Predicted Label: Tencent\n",
      "\n",
      "Actual Label:    Tencent\n",
      "Project Name:    NeuralNLP-NeuralClassifier\n",
      "Predicted Label: NVIDIA\n",
      "\n",
      "Actual Label:    microsoft\n",
      "Project Name:    unilm\n",
      "Predicted Label: Tencent\n",
      "\n",
      "Actual Label:    NVIDIA\n",
      "Project Name:    NeMo\n",
      "Predicted Label: NVIDIA\n",
      "\n",
      "Actual Label:    facebookresearch\n",
      "Project Name:    detectron2\n",
      "Predicted Label: NVIDIA\n",
      "\n",
      "Actual Label:    google-research\n",
      "Project Name:    text-to-text-transfer-transformer\n",
      "Predicted Label: facebookresearch\n",
      "\n",
      "Actual Label:    google-research\n",
      "Project Name:    albert\n",
      "Predicted Label: facebookresearch\n",
      "\n",
      "Actual Label:    microsoft\n",
      "Project Name:    DeepSpeed\n",
      "Predicted Label: facebookresearch\n",
      "\n"
     ]
    }
   ],
   "source": [
    "for row in repo_features.iterrows():\n",
    "   \n",
    "    X=repo_features[repo_features.repo_id!=row[1]['repo_id']]\n",
    "    y=X.owner_login\n",
    "    \n",
    "    \n",
    "    query=repo_features[repo_features.repo_id==row[1]['repo_id']]\n",
    "    \n",
    "    print ('Actual Label:   ', query.owner_login.values[0])\n",
    "    print ('Project Name:   ', query.repo_name.values[0])\n",
    "    \n",
    "    features=X_profile+X_emb+X_act\n",
    "    X=X[features]\n",
    "    query=query[features]\n",
    "    \n",
    "\n",
    "    \n",
    "    neigh = KNeighborsClassifier(n_neighbors=3)\n",
    "    neigh.fit(X, y)\n",
    "    \n",
    "    print ('Predicted Label:', neigh.predict(query)[0])\n",
    "   \n",
    "\n",
    "    print ()\n",
    "    "
   ]
  },
  {
   "cell_type": "code",
   "execution_count": 111,
   "metadata": {},
   "outputs": [],
   "source": [
    "X=repo_features.drop(['num_leaders', 'forks_count', 'star_count', 'open_issues_count', 'repo_id'], axis=1)"
   ]
  },
  {
   "cell_type": "code",
   "execution_count": 112,
   "metadata": {},
   "outputs": [
    {
     "data": {
      "text/plain": [
       "((27, 62), (27, 67))"
      ]
     },
     "execution_count": 112,
     "metadata": {},
     "output_type": "execute_result"
    }
   ],
   "source": [
    "X.shape, repo_features.shape"
   ]
  },
  {
   "cell_type": "code",
   "execution_count": 452,
   "metadata": {},
   "outputs": [],
   "source": [
    "#X.to_pickle('case_study_feature_representation.pickle')"
   ]
  },
  {
   "cell_type": "code",
   "execution_count": 295,
   "metadata": {},
   "outputs": [],
   "source": [
    "#X=pd.read_pickle('case_study_feature_representation.pickle')"
   ]
  },
  {
   "cell_type": "markdown",
   "metadata": {},
   "source": [
    "#### Visulalization (PCA)"
   ]
  },
  {
   "cell_type": "code",
   "execution_count": 114,
   "metadata": {
    "scrolled": true
   },
   "outputs": [
    {
     "data": {
      "image/png": "[encoded data removed]",
      "text/plain": [
       "<Figure size 432x288 with 1 Axes>"
      ]
     },
     "metadata": {},
     "output_type": "display_data"
    }
   ],
   "source": [
    "from IPython.display import display\n",
    "\n",
    "\n",
    "pd.options.display.max_columns = None\n",
    "plt.style.use('ggplot')\n",
    "\n",
    "mtx=X\n",
    "\n",
    "companies = list(mtx['owner_login'])\n",
    "#companies=list(mtx['repo_name'])\n",
    "\n",
    "mtx = mtx.drop(['owner_login'], axis=1)\n",
    "mtx = mtx.drop(['repo_name'], axis=1)\n",
    "\n",
    "\n",
    "\n",
    "companiescolors = {\n",
    "    'facebookresearch': 'b',\n",
    "    'microsoft': 'r',\n",
    "    'NVIDIA': 'darkred',\n",
    "    'baidu': 'g',\n",
    "    'Tencent': 'c',\n",
    "    'google-research': 'm'\n",
    "}\n",
    "\n",
    "\n",
    "companieslegends = {\n",
    "    'facebookresearch': 'Facebook',\n",
    "    'microsoft': 'Microsoft',\n",
    "    'NVIDIA': 'NVIDIA',\n",
    "    'baidu': 'Baidu',\n",
    "    'Tencent': 'Tencent',\n",
    "    'google-research': 'Google'\n",
    "}\n",
    "\n",
    "# companiescolors = {\n",
    "#  'ParlAI': 'black',\n",
    "#  'ReAgent': 'gray',\n",
    "#  'MMdnn': 'silver',\n",
    "#  'pix2pixHD': 'whitesmoke',\n",
    "#  'FastPhotoStyle': 'rosybrown',\n",
    "#  'apex': 'firebrick',\n",
    "#  'nni': 'red',\n",
    "#  'Senta': 'darksalmon',\n",
    "#  'pytext': 'sienna',\n",
    "#  'human-pose-estimation.pytorch': 'sandybrown',\n",
    "#  'Dialogue': 'tan',\n",
    "#  'Metis': 'gold',\n",
    "#  'bert': 'darkkhaki',\n",
    "#  'waveglow': 'palegreen',\n",
    "#  'FaceDetection-DSFD': 'darkgreen',\n",
    "#  'ObjectDetection-OneStageDet': 'darkcyan',\n",
    "#  'PaddleHub': 'navy',\n",
    "#  'pyrobot': 'blue',\n",
    "#  'tensor2robot': 'mediumpurple',\n",
    "#  'uda': 'darkorchid',\n",
    "#  'NeuralNLP-NeuralClassifier': 'teal',\n",
    "#  'unilm': 'plum',\n",
    "#  'NeMo': 'pink',\n",
    "#  'detectron2': 'orange',\n",
    "#  'text-to-text-transfer-transformer': 'darkred',\n",
    "#  'albert': 'crimson',\n",
    "#  'DeepSpeed': 'brown'\n",
    "# }\n",
    "\n",
    "\n",
    "# companieslegends = {\n",
    "#  'ParlAI': 'ParlAI',\n",
    "#  'ReAgent': 'ReAgent',\n",
    "#  'MMdnn': 'MMdnn',\n",
    "#  'pix2pixHD': 'pix2pixHD',\n",
    "#  'FastPhotoStyle': 'FastPhotoStyle',\n",
    "#  'apex': 'apex',\n",
    "#  'nni': 'nni',\n",
    "#  'Senta': 'Senta',\n",
    "#  'pytext': 'pytext',\n",
    "#  'human-pose-estimation.pytorch': 'human-pose',\n",
    "#  'Dialogue': 'Dialogue',\n",
    "#  'Metis': 'Metis',\n",
    "#  'bert': 'BERT',\n",
    "#  'waveglow': 'waveglow',\n",
    "#  'FaceDetection-DSFD': 'DSFD',\n",
    "#  'ObjectDetection-OneStageDet': 'OneStageDe',\n",
    "#  'PaddleHub': 'PaddleHub',\n",
    "#  'pyrobot': 'pyrobot',\n",
    "#  'tensor2robot': 'tens2robot',\n",
    "#  'uda': 'uda',\n",
    "#  'NeuralNLP-NeuralClassifier': 'NNLP',\n",
    "#  'unilm': 'unilm',\n",
    "#  'NeMo': 'NeMo',\n",
    "#  'detectron2': 'detectron2',\n",
    "#  'text-to-text-transfer-transformer': 'tx2txTransfer',\n",
    "#  'albert': 'albert',\n",
    "#  'DeepSpeed': 'DeepSpeed'\n",
    "# }\n",
    "\n",
    "\n",
    "\n",
    "c = [companiescolors[i] for i in companies]\n",
    "t = PCA(n_components=2)\n",
    "x = t.fit_transform(mtx)\n",
    "for company in (set(companies)):\n",
    "    idxes = [i for i, j in enumerate(companies) if j == company]\n",
    "    v = x[idxes, :]\n",
    "    plt.scatter(v[:, 0], v[:, 1], c=companiescolors[company], label=companieslegends[company])\n",
    "    #plt.annotate(companieslegends[company], (list(x[idxes[0]])[0], list(x[idxes[0]])[1]))\n",
    "plt.legend(bbox_to_anchor=(0.99, 1.23), ncol=3, fontsize=12)\n",
    "#plt.xticks([])\n",
    "#plt.yticks([])\n",
    "plt.savefig('Plots/case_study_pca.pdf', bbox_inches='tight')"
   ]
  },
  {
   "cell_type": "code",
   "execution_count": 107,
   "metadata": {
    "scrolled": true
   },
   "outputs": [
    {
     "data": {
      "text/plain": [
       "google-research/bert                                 35265\n",
       "facebookresearch/ParlAI                              33668\n",
       "facebookresearch/detectron2                          23465\n",
       "microsoft/nni                                        15874\n",
       "NVIDIA/FastPhotoStyle                                12257\n",
       "facebookresearch/pytext                              11840\n",
       "NVIDIA/apex                                          10269\n",
       "NVIDIA/NeMo                                          10258\n",
       "Microsoft/nni                                         7931\n",
       "Microsoft/MMdnn                                       7382\n",
       "PaddlePaddle/PaddleHub                                6573\n",
       "NVIDIA/pix2pixHD                                      6496\n",
       "sony/nnabla                                           6477\n",
       "google-research/text-to-text-transfer-transformer     5140\n",
       "microsoft/DeepSpeed                                   4551\n",
       "NVIDIA/waveglow                                       3267\n",
       "TencentYoutuResearch/FaceDetection-DSFD               3115\n",
       "google-research/ALBERT                                3035\n",
       "facebookresearch/Horizon                              2965\n",
       "facebookresearch/pyrobot                              2730\n",
       "microsoft/MMdnn                                       2679\n",
       "TencentYoutuResearch/ObjectDetection-OneStageDet      2583\n",
       "microsoft/unilm                                       2551\n",
       "google-research/uda                                   1827\n",
       "Microsoft/human-pose-estimation.pytorch               1722\n",
       "Tencent/Metis                                         1703\n",
       "facebookresearch/ReAgent                              1476\n",
       "Tencent/NeuralNLP-NeuralClassifier                    1340\n",
       "microsoft/human-pose-estimation.pytorch               1256\n",
       "baidu/Senta                                           1201\n",
       "ProtolabSBRE/qibullet                                  923\n",
       "baidu/Dialogue                                         712\n",
       "google-research/albert                                 688\n",
       "google-research/tensor2robot                           590\n",
       "alibaba/gym-starcraft                                  546\n",
       "facebookresearch/BlueWhale                             258\n",
       "softbankrobotics-research/qibullet                     244\n",
       "deepcraft/gym-starcraft                                226\n",
       "caffe2/reinforcement-learning-models                   128\n",
       "caffe2/BlueWhale                                        90\n",
       "Tencent/FaceDetection-DSFD                              82\n",
       "Tencent/ObjectDetection-OneStageDet                     52\n",
       "google-research/unsupervised-data-augmentation           5\n",
       "TYTFRG/FaceDetection-DSFD                                2\n",
       "TYTFRG/ObjectDetection-OneStageDet                       2\n",
       "facebookresearch/                                        2\n",
       "Name: repo_name, dtype: int64"
      ]
     },
     "execution_count": 107,
     "metadata": {},
     "output_type": "execute_result"
    }
   ],
   "source": [
    "#distribution of events across repos (focus on repos with at least 500 events)\n",
    "event_pd.repo_name.value_counts()"
   ]
  },
  {
   "cell_type": "code",
   "execution_count": 108,
   "metadata": {},
   "outputs": [],
   "source": [
    "#Done !"
   ]
  }
 ],
 "metadata": {
  "kernelspec": {
   "display_name": "Python 3",
   "language": "python",
   "name": "python3"
  },
  "language_info": {
   "codemirror_mode": {
    "name": "ipython",
    "version": 3
   },
   "file_extension": ".py",
   "mimetype": "text/x-python",
   "name": "python",
   "nbconvert_exporter": "python",
   "pygments_lexer": "ipython3",
   "version": "3.7.7"
  }
 },
 "nbformat": 4,
 "nbformat_minor": 2
}
